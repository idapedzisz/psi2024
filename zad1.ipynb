{
  "nbformat": 4,
  "nbformat_minor": 0,
  "metadata": {
    "colab": {
      "provenance": []
    },
    "kernelspec": {
      "name": "python3",
      "display_name": "Python 3"
    },
    "language_info": {
      "name": "python"
    }
  },
  "cells": [
    {
      "cell_type": "code",
      "execution_count": null,
      "metadata": {
        "id": "fLfavgPGg9Qd"
      },
      "outputs": [],
      "source": []
    },
    {
      "cell_type": "markdown",
      "source": [
        "kmkkbkbbcgxfzxc**vgc x** *sdfsd* ~lksjd~ ```jhas``` [whahah](https://drive.google.com/drive/my-drive?hl=pl)"
      ],
      "metadata": {
        "id": "XU_KcD4qhoel"
      }
    },
    {
      "cell_type": "code",
      "source": [
        "print(\"hello world\")"
      ],
      "metadata": {
        "colab": {
          "base_uri": "https://localhost:8080/"
        },
        "id": "Fbf4KGXEho99",
        "outputId": "400aa486-941a-4ef5-b846-b1796c6233a9"
      },
      "execution_count": 7,
      "outputs": [
        {
          "output_type": "stream",
          "name": "stdout",
          "text": [
            "hello world\n"
          ]
        }
      ]
    },
    {
      "cell_type": "markdown",
      "source": [],
      "metadata": {
        "id": "UpuP4F6rhpWN"
      }
    },
    {
      "cell_type": "code",
      "source": [],
      "metadata": {
        "id": "nwEYIBwwhqIN"
      },
      "execution_count": null,
      "outputs": []
    }
  ]
}